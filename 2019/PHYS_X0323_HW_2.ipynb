{
 "cells": [
  {
   "cell_type": "markdown",
   "metadata": {},
   "source": [
    "## Plotting in Python - HW 2"
   ]
  },
  {
   "cell_type": "markdown",
   "metadata": {},
   "source": [
    "This second project will introduce you to working with and plotting/respresenting data.\n",
    "(Written by Peter Frinchaboy, Mia Bovill, and John Donor)"
   ]
  },
  {
   "cell_type": "code",
   "execution_count": null,
   "metadata": {},
   "outputs": [],
   "source": [
    "# Import the needed fuctions\n",
    "from matplotlib import pyplot as plt\n",
    "import numpy as np"
   ]
  },
  {
   "cell_type": "markdown",
   "metadata": {},
   "source": [
    "You will first need to download the plain text data file \"hlist_1.00000.list\", that we will read in to have data to plot."
   ]
  },
  {
   "cell_type": "code",
   "execution_count": null,
   "metadata": {},
   "outputs": [],
   "source": [
    "# This will read in the data into a numpy array\n",
    "data = np.genfromtxt(\"hlist_1.00000.list\")\n",
    "# This will seperate specific columns of the data into newly created variables\n",
    "mvir = data[:,10]   # mass\n",
    "rvir = data[:,11]   # radius\n",
    "Nproj = data[:,4] \n",
    "vmax = data[:,16]   # max velocity\n",
    "vpeak = data[:,37]  # peak velocity"
   ]
  },
  {
   "cell_type": "markdown",
   "metadata": {},
   "source": [
    "Next will will gerenerate a first plot of mass vs velocity. \n",
    "\n",
    "This will introduce the first options you will have."
   ]
  },
  {
   "cell_type": "code",
   "execution_count": null,
   "metadata": {},
   "outputs": [],
   "source": [
    "# Creating a scatter plot in log log space using an object oriented approach\n",
    "fig = plt.figure()                           # makes a figure\n",
    "ax = fig.add_subplot(111)                    # make a 1,1,1 (single) figure\n",
    "ax.scatter(mvir,vmax,s=5,c='k',alpha=0.3)    # makes a scatter plot (s = size, c = color, alpha = transparency)\n",
    "ax.set_xscale('log')                         # sets the x axis to a log scale\n",
    "ax.set_yscale('log')                         # sets the y axis to a log scale"
   ]
  },
  {
   "cell_type": "code",
   "execution_count": null,
   "metadata": {},
   "outputs": [],
   "source": [
    "# Changing the size of the plot -- figsize\n",
    "fig = plt.figure(figsize=(20,10))\n",
    "\n",
    "ax = fig.add_subplot(111)\n",
    "ax.scatter(mvir,vmax,s=5,c='k',alpha=0.3)\n",
    "ax.set_xscale('log')\n",
    "ax.set_yscale('log')"
   ]
  },
  {
   "cell_type": "markdown",
   "metadata": {},
   "source": [
    "Well this looks like a nice plot, but if you gave this to someone could they tell what it was a plot of?\n",
    "\n",
    "We need add labels to inform the reader, also we will limit the plot to only show a portion of the data."
   ]
  },
  {
   "cell_type": "code",
   "execution_count": null,
   "metadata": {},
   "outputs": [],
   "source": [
    "# this is the same as above\n",
    "fig = plt.figure(figsize=(20,10))\n",
    "ax = fig.add_subplot(111)\n",
    "ax.scatter(mvir,vmax,s=5,c='k',alpha=0.3)\n",
    "ax.set_xscale('log')\n",
    "ax.set_yscale('log')\n",
    "\n",
    "# Now, we will label the axis and set the limits of the axis and increase ticksize of the axis\n",
    "# Set the start and end of range you want to display on the x and yaxis \n",
    "ax.set_xlim(10**9.0,2.0*10.0**13.0)\n",
    "ax.set_ylim(10**1.0,400.0)\n",
    "\n",
    "# add the labels\n",
    "ax.set_xlabel(\"$M_{vir}$ $(M_{\\odot})$\",size=20) # allows LaTeX style formating\n",
    "ax.set_ylabel(\"$v_{max}$ $(km/s)$\",size=20)      # allows LaTeX style formating\n",
    "\n",
    "# increase the size of the numbers on the axes\n",
    "ax.xaxis.set_tick_params(labelsize=20)\n",
    "ax.yaxis.set_tick_params(labelsize=20)"
   ]
  },
  {
   "cell_type": "code",
   "execution_count": null,
   "metadata": {},
   "outputs": [],
   "source": [
    "fig = plt.figure(figsize=(20,10))\n",
    "ax = fig.add_subplot(111)\n",
    "\n",
    "# Sizing the points according to a 3rd attribute - rvir\n",
    "ax.scatter(mvir,vmax,s=10*rvir,c='k',alpha=0.3)\n",
    "ax.set_xscale('log')\n",
    "ax.set_yscale('log')\n",
    "\n",
    "ax.set_xlim(10**9.0,2.0*10.0**13.0)\n",
    "ax.set_ylim(10**1.0,600.0)\n",
    "\n",
    "ax.set_xlabel(\"$M_{vir}$ $(M_{\\odot})$\",size=20)\n",
    "ax.set_ylabel(\"$v_{max}$ $(km/s)$\",size=20)\n",
    "\n",
    "ax.xaxis.set_tick_params(labelsize=20)\n",
    "ax.yaxis.set_tick_params(labelsize=20)"
   ]
  },
  {
   "cell_type": "code",
   "execution_count": null,
   "metadata": {},
   "outputs": [],
   "source": [
    "fig = plt.figure(figsize=(20,10))\n",
    "ax = fig.add_subplot(111)\n",
    "\n",
    "# Coloring the points by a 4th attribute and adding a color bar\n",
    "image = ax.scatter(mvir,vmax,s=10*rvir,c=np.log10(vpeak),edgecolor='k',cmap=\"cool\",alpha=0.3)\n",
    "bar = fig.colorbar(image,orientation=\"vertical\",pad=0.01)\n",
    "bar.set_label('$log10(v_{peak})$',size=15)\n",
    "\n",
    "ax.set_xscale('log')\n",
    "ax.set_yscale('log')\n",
    "\n",
    "ax.set_xlim(10**9.0,2.0*10.0**13.0)\n",
    "ax.set_ylim(10**1.0,600.0)\n",
    "\n",
    "ax.set_xlabel(\"$M_{vir}$ $(M_{\\odot})$\",size=20)\n",
    "ax.set_ylabel(\"$v_{max}$ $(km/s)$\",size=20)\n",
    "\n",
    "ax.xaxis.set_tick_params(labelsize=20)\n",
    "ax.yaxis.set_tick_params(labelsize=20)"
   ]
  },
  {
   "cell_type": "code",
   "execution_count": null,
   "metadata": {},
   "outputs": [],
   "source": [
    "# Inserted text into the plot\n",
    "fig = plt.figure(figsize=(20,10))\n",
    "ax = fig.add_subplot(111)\n",
    "\n",
    "image = ax.scatter(mvir,vmax,s=10*rvir,c=np.log10(vpeak),edgecolor='k',cmap=\"cool\",alpha=0.3)\n",
    "bar = fig.colorbar(image,orientation=\"vertical\",pad=0.01)\n",
    "bar.set_label('$log10(v_{peak})$',size=15)\n",
    "\n",
    "ax.text(10**10, 200, \"Text is Awesome!\",size=20)\n",
    "ax.text(10**11, 30, \"And you can put it anywhere!\",size=20)\n",
    "\n",
    "\n",
    "ax.set_xscale('log')\n",
    "ax.set_yscale('log')\n",
    "\n",
    "ax.set_xlim(10**9.0,2.0*10.0**13.0)\n",
    "ax.set_ylim(10**1.0,600.0)\n",
    "\n",
    "ax.set_xlabel(\"$M_{vir}$ $(M_{\\odot})$\",size=20)\n",
    "ax.set_ylabel(\"$v_{max}$ $(km/s)$\",size=20)\n",
    "\n",
    "ax.xaxis.set_tick_params(labelsize=20)\n",
    "ax.yaxis.set_tick_params(labelsize=20)"
   ]
  },
  {
   "cell_type": "code",
   "execution_count": null,
   "metadata": {},
   "outputs": [],
   "source": [
    "# Inserted text into the plot\n",
    "fig = plt.figure(figsize=(20,10))\n",
    "ax = fig.add_subplot(111)\n",
    "\n",
    "image = ax.scatter(mvir,vmax,s=10*rvir,c=np.log10(vpeak),edgecolor='k',cmap=\"cool\",alpha=0.3)\n",
    "bar = fig.colorbar(image,orientation=\"vertical\",pad=0.01)\n",
    "bar.set_label('$log10(v_{peak})$',size=15)\n",
    "\n",
    "ax.text(10**10, 200, \"You can also insert subplots\",size=20)\n",
    "\n",
    "# Inserting a subplot\n",
    "ax_sub = fig.add_axes([0.5,0.2,0.2,0.2])\n",
    "ax_sub.hist(vpeak,bins=np.logspace(0,3,20),log='True')\n",
    "ax_sub.set_xscale('log')\n",
    "\n",
    "ax.set_xscale('log')\n",
    "ax.set_yscale('log')\n",
    "\n",
    "ax.set_xlim(10**9.0,2.0*10.0**13.0)\n",
    "ax.set_ylim(10**1.0,600.0)\n",
    "\n",
    "ax.set_xlabel(\"$M_{vir}$ $(M_{\\odot})$\",size=20)\n",
    "ax.set_ylabel(\"$v_{max}$ $(km/s)$\",size=20)\n",
    "\n",
    "ax.xaxis.set_tick_params(labelsize=20)\n",
    "ax.yaxis.set_tick_params(labelsize=20)"
   ]
  },
  {
   "cell_type": "code",
   "execution_count": null,
   "metadata": {},
   "outputs": [],
   "source": [
    "# Adding multiple plots\n",
    "fig = plt.figure(figsize=(20,10))\n",
    "\n",
    "ax1 = fig.add_subplot(221)\n",
    "ax1.scatter(vmax,vmax)\n",
    "\n",
    "ax2 = fig.add_subplot(222)\n",
    "ax2.scatter(vmax,vmax)\n",
    "\n",
    "ax3 = fig.add_subplot(223)\n",
    "ax3.scatter(vmax,vmax)\n",
    "\n",
    "ax4 = fig.add_subplot(224)\n",
    "ax4.scatter(vmax,vmax)"
   ]
  },
  {
   "cell_type": "code",
   "execution_count": null,
   "metadata": {},
   "outputs": [],
   "source": [
    "fig = plt.figure(figsize=(20,10))\n",
    "\n",
    "# Condensing the plots\n",
    "fig.subplots_adjust(hspace=0.0, wspace=0.0)\n",
    "\n",
    "ax1 = fig.add_subplot(221)\n",
    "ax1.scatter(vmax,vmax)\n",
    "\n",
    "ax2 = fig.add_subplot(222)\n",
    "ax2.scatter(vmax,vmax)\n",
    "\n",
    "ax3 = fig.add_subplot(223)\n",
    "ax3.scatter(vmax,vmax)\n",
    "\n",
    "ax4 = fig.add_subplot(224)\n",
    "ax4.scatter(vmax,vmax)\n",
    "\n",
    "# Removing unneeded tick axis\n",
    "ax1.set_xticks([])\n",
    "ax2.set_yticks([])\n",
    "ax2.set_xticks([])\n",
    "ax4.set_yticks([])"
   ]
  },
  {
   "cell_type": "markdown",
   "metadata": {
    "collapsed": true
   },
   "source": [
    "# Exercise - Plot on the same figure mvir and mpeak versus vmax and vpeak. \n",
    "Give the sizes of the points by rvir and color the points by Nproj. Make sure to label your axis and include a colorbar.\n",
    "#Extra awesome for adding an inserted histgram of mvir into one of its plots."
   ]
  },
  {
   "cell_type": "code",
   "execution_count": null,
   "metadata": {},
   "outputs": [],
   "source": []
  }
 ],
 "metadata": {
  "kernelspec": {
   "display_name": "Python 3",
   "language": "python",
   "name": "python3"
  },
  "language_info": {
   "codemirror_mode": {
    "name": "ipython",
    "version": 3
   },
   "file_extension": ".py",
   "mimetype": "text/x-python",
   "name": "python",
   "nbconvert_exporter": "python",
   "pygments_lexer": "ipython3",
   "version": "3.6.5"
  }
 },
 "nbformat": 4,
 "nbformat_minor": 2
}
