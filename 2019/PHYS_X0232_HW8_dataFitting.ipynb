{
 "cells": [
  {
   "cell_type": "code",
   "execution_count": null,
   "metadata": {},
   "outputs": [],
   "source": [
    "%matplotlib inline\n",
    "# the above line is literally called magic. it basically is\n",
    "# it helps with plotting in the notebooks\n",
    "\n",
    "# we're going to need all of these so lets import now\n",
    "# best practice of course is to do this in the first cell\n",
    "import numpy as np  # common convention, lets stick to it\n",
    "import scipy.optimize as opt  # we'll need this for fitting!\n",
    "from matplotlib import pyplot as plt # also the common convention"
   ]
  },
  {
   "cell_type": "code",
   "execution_count": null,
   "metadata": {},
   "outputs": [],
   "source": [
    "# start with linear data\n",
    "# lets make a function that makes a line!\n",
    "\n",
    "def line(x, m, b):\n",
    "    # the order of these arguments is important later\n",
    "    # and good practice\n",
    "    # the x input is first because we will pass many x points\n",
    "\n",
    "    return m * x + b  # as expected\n",
    "\n",
    "\n",
    "x_data = np.arange(0, 10, 0.1)  # from 0 to 10 in steps of 0.1\n",
    "y_data = line(x_data, 2, 0)\n",
    "\n",
    "plt.scatter(x_data, y_data)"
   ]
  },
  {
   "cell_type": "code",
   "execution_count": null,
   "metadata": {},
   "outputs": [],
   "source": [
    "# boring but that's the point\n",
    "# lets make something that looks like real data\n",
    "\n",
    "x_data = np.arange(0, 10, 0.1)\n",
    "\n",
    "# data isn't evenly spaced\n",
    "# we're going to randomly choose points to keep\n",
    "# we create a random array of boolean values\n",
    "# then \"slice\" x_data; only the indices where cut is true will be kept\n",
    "cut = np.random.choice(a=[False, True], size=x_data.shape)\n",
    "x_data = x_data[cut]\n",
    "\n",
    "y_data = line(x_data, 2, 0)\n",
    "\n",
    "# cool but still a perfect line\n",
    "# lets add noise\n",
    "\n",
    "y_data_noisy = y_data + np.random.randn(len(y_data)) * 2\n",
    "\n",
    "plt.scatter(x_data, y_data_noisy, c='b')\n",
    "plt.plot(x_data, y_data, c='r')"
   ]
  },
  {
   "cell_type": "code",
   "execution_count": null,
   "metadata": {},
   "outputs": [],
   "source": [
    "# now suppose we don't have y_data and know m or b, as usually happens\n",
    "# that's where fitting comes in!\n",
    "\n",
    "popt, pcov = opt.curve_fit(line, x_data, y_data_noisy)\n",
    "\n",
    "print(*popt)  # woah what's that *!?\n",
    "# \"Starred\" expressions are very handy in python\n",
    "# it means \"unpack\" basically. \n",
    "# *popt is short hand for popt[0], popt[1], ... , popt[n]\n",
    "# in this case its just 0 and 1, but this saves lots of typing!\n",
    "# of course this is equivalent to the long version, as can be seen\n",
    "print(popt[0], popt[1])\n",
    "\n",
    "\n",
    "plt.scatter(x_data, y_data_noisy, c='b')\n",
    "plt.plot(x_data, line(x_data, *popt), c='r')"
   ]
  },
  {
   "cell_type": "code",
   "execution_count": null,
   "metadata": {},
   "outputs": [],
   "source": [
    "# cool that's pretty close\n",
    "# now let's try it on real data!\n",
    "\n",
    "# we're going to use numpy's built in text file reader\n",
    "# names=True means use headers\n",
    "# delimiter=\",\" is the character seperating the columns\n",
    "# and many thanks to https://cdiac.ess-dive.lbl.gov/ftp/ndp030/global.1751_2011.ems\n",
    "# for the data\n",
    "data = np.genfromtxt(\"co2_emmissions.dat\", names=True, delimiter=\",\")\n",
    "\n",
    "# this structure is a numpy array, sometimes called a \"rec array\" because it has named columns\n",
    "# we can see a row\n",
    "print(data[0])\n",
    "# we can see the names of the columns\n",
    "print(data.dtype)\n",
    "# and access data by column\n",
    "print(data[\"Year\"])\n",
    "# and as with all arrays we can access sub-pieces\n",
    "print(data[\"Year\"][:10])"
   ]
  },
  {
   "cell_type": "code",
   "execution_count": null,
   "metadata": {},
   "outputs": [],
   "source": [
    "# cool lets see some trends!\n",
    "\n",
    "plt.scatter(data[\"Year\"], data[\"Total\"])\n",
    "plt.xlabel(\"Year\")\n",
    "plt.ylabel(\"CO$_2$ (Mega-tons)\")"
   ]
  },
  {
   "cell_type": "code",
   "execution_count": null,
   "metadata": {},
   "outputs": [],
   "source": [
    "# Ignoring how terrifying that is...\n",
    "# your assignment is to fit a trend to that data\n",
    "# you may want to try multiple functions, e.g. exponential and polynomial"
   ]
  }
 ],
 "metadata": {
  "kernelspec": {
   "display_name": "Python 3",
   "language": "python",
   "name": "python3"
  },
  "language_info": {
   "codemirror_mode": {
    "name": "ipython",
    "version": 3
   },
   "file_extension": ".py",
   "mimetype": "text/x-python",
   "name": "python",
   "nbconvert_exporter": "python",
   "pygments_lexer": "ipython3",
   "version": "3.7.3"
  }
 },
 "nbformat": 4,
 "nbformat_minor": 2
}
